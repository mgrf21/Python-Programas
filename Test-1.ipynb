{
 "cells": [
  {
   "cell_type": "code",
   "execution_count": 1,
   "metadata": {},
   "outputs": [
    {
     "name": "stdout",
     "output_type": "stream",
     "text": [
      "Ejemplo de prueba 1\n",
      "[100.      2.7     8.333   4.      0.5  ]\n",
      "<class 'numpy.ndarray'>\n",
      "La suma va en  2\n",
      "y=  0\n",
      "La suma va en  3\n",
      "y=  0\n",
      "La suma va en  4\n",
      "numero detectado\n",
      "y=  1\n",
      "La suma va en  5\n",
      "y=  1\n",
      "La suma va en  6\n",
      "y=  1\n",
      "La suma va en  7\n",
      "y=  1\n",
      "El resultado es  7\n"
     ]
    }
   ],
   "source": [
    "# Este es un comentario\n",
    "import numpy as np\n",
    "print(\"Ejemplo de prueba 1\")\n",
    "arr= np.array([100,2.7,8.333,4, 0.5])\n",
    "print(arr)\n",
    "print(type(arr))\n",
    "x= 1\n",
    "y= 0\n",
    "for i in range (6):\n",
    "    x = x + 1\n",
    "    print(\"La suma va en \",x)\n",
    "    if x==4:\n",
    "        print (\"numero detectado\")\n",
    "        y = 1\n",
    "    print (\"y= \", y)\n",
    "print(\"El resultado es \",x)\n",
    "\n"
   ]
  },
  {
   "cell_type": "markdown",
   "metadata": {},
   "source": []
  }
 ],
 "metadata": {
  "interpreter": {
   "hash": "c2f95d9392ed95f708cca12f439b9eb2363465397b0b08450832f54c31aee4aa"
  },
  "kernelspec": {
   "display_name": "Python 3.9.7 64-bit ('base': conda)",
   "language": "python",
   "name": "python3"
  },
  "language_info": {
   "codemirror_mode": {
    "name": "ipython",
    "version": 3
   },
   "file_extension": ".py",
   "mimetype": "text/x-python",
   "name": "python",
   "nbconvert_exporter": "python",
   "pygments_lexer": "ipython3",
   "version": "3.9.7"
  },
  "orig_nbformat": 4
 },
 "nbformat": 4,
 "nbformat_minor": 2
}
